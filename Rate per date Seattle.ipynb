{
 "cells": [
  {
   "cell_type": "markdown",
   "metadata": {},
   "source": [
    "### The Objective of this jupyter notebook is identify in wich time of the year is most expensive rent a airbnb in seattle"
   ]
  },
  {
   "cell_type": "code",
   "execution_count": 2,
   "metadata": {},
   "outputs": [
    {
     "data": {
      "text/html": [
       "<div>\n",
       "<style scoped>\n",
       "    .dataframe tbody tr th:only-of-type {\n",
       "        vertical-align: middle;\n",
       "    }\n",
       "\n",
       "    .dataframe tbody tr th {\n",
       "        vertical-align: top;\n",
       "    }\n",
       "\n",
       "    .dataframe thead th {\n",
       "        text-align: right;\n",
       "    }\n",
       "</style>\n",
       "<table border=\"1\" class=\"dataframe\">\n",
       "  <thead>\n",
       "    <tr style=\"text-align: right;\">\n",
       "      <th></th>\n",
       "      <th>listing_id</th>\n",
       "      <th>date</th>\n",
       "      <th>available</th>\n",
       "      <th>price</th>\n",
       "      <th>adjusted_price</th>\n",
       "      <th>minimum_nights</th>\n",
       "      <th>maximum_nights</th>\n",
       "    </tr>\n",
       "  </thead>\n",
       "  <tbody>\n",
       "    <tr>\n",
       "      <th>0</th>\n",
       "      <td>2318</td>\n",
       "      <td>2019-09-22</td>\n",
       "      <td>t</td>\n",
       "      <td>$475.00</td>\n",
       "      <td>$475.00</td>\n",
       "      <td>30</td>\n",
       "      <td>1000</td>\n",
       "    </tr>\n",
       "    <tr>\n",
       "      <th>1</th>\n",
       "      <td>2318</td>\n",
       "      <td>2019-09-23</td>\n",
       "      <td>t</td>\n",
       "      <td>$475.00</td>\n",
       "      <td>$475.00</td>\n",
       "      <td>30</td>\n",
       "      <td>1000</td>\n",
       "    </tr>\n",
       "    <tr>\n",
       "      <th>2</th>\n",
       "      <td>2318</td>\n",
       "      <td>2019-09-24</td>\n",
       "      <td>t</td>\n",
       "      <td>$475.00</td>\n",
       "      <td>$475.00</td>\n",
       "      <td>30</td>\n",
       "      <td>1000</td>\n",
       "    </tr>\n",
       "    <tr>\n",
       "      <th>3</th>\n",
       "      <td>2318</td>\n",
       "      <td>2019-09-25</td>\n",
       "      <td>f</td>\n",
       "      <td>$475.00</td>\n",
       "      <td>$475.00</td>\n",
       "      <td>30</td>\n",
       "      <td>1000</td>\n",
       "    </tr>\n",
       "    <tr>\n",
       "      <th>4</th>\n",
       "      <td>2318</td>\n",
       "      <td>2019-09-26</td>\n",
       "      <td>f</td>\n",
       "      <td>$475.00</td>\n",
       "      <td>$475.00</td>\n",
       "      <td>30</td>\n",
       "      <td>1000</td>\n",
       "    </tr>\n",
       "  </tbody>\n",
       "</table>\n",
       "</div>"
      ],
      "text/plain": [
       "   listing_id        date available    price adjusted_price  minimum_nights  \\\n",
       "0        2318  2019-09-22         t  $475.00        $475.00              30   \n",
       "1        2318  2019-09-23         t  $475.00        $475.00              30   \n",
       "2        2318  2019-09-24         t  $475.00        $475.00              30   \n",
       "3        2318  2019-09-25         f  $475.00        $475.00              30   \n",
       "4        2318  2019-09-26         f  $475.00        $475.00              30   \n",
       "\n",
       "   maximum_nights  \n",
       "0            1000  \n",
       "1            1000  \n",
       "2            1000  \n",
       "3            1000  \n",
       "4            1000  "
      ]
     },
     "execution_count": 2,
     "metadata": {},
     "output_type": "execute_result"
    }
   ],
   "source": [
    "import numpy as np\n",
    "import pandas as pd\n",
    "import matplotlib.pyplot as plt\n",
    "from sklearn.linear_model import LinearRegression\n",
    "from sklearn.model_selection import train_test_split\n",
    "from sklearn.metrics import r2_score, mean_squared_error\n",
    "import seaborn as sns\n",
    "%matplotlib inline\n",
    "\n",
    "seattle_calendar = pd.read_csv('./Seattle/calendar.csv')\n",
    "seattle_calendar.head()"
   ]
  },
  {
   "cell_type": "markdown",
   "metadata": {},
   "source": [
    "#### We have a cuple of problems here, our price is an string with the character of dolar \"$\" before, and our date is an string we have to format to date. "
   ]
  },
  {
   "cell_type": "code",
   "execution_count": 3,
   "metadata": {},
   "outputs": [
    {
     "data": {
      "text/plain": [
       "<bound method IndexOpsMixin.value_counts of 0          $475.00\n",
       "1          $475.00\n",
       "2          $475.00\n",
       "3          $475.00\n",
       "4          $475.00\n",
       "            ...   \n",
       "3299595    $100.00\n",
       "3299596    $100.00\n",
       "3299597    $100.00\n",
       "3299598    $100.00\n",
       "3299599    $100.00\n",
       "Name: price, Length: 3299600, dtype: object>"
      ]
     },
     "execution_count": 3,
     "metadata": {},
     "output_type": "execute_result"
    }
   ],
   "source": [
    "seattle_calendar[\"price\"].value_counts"
   ]
  },
  {
   "cell_type": "markdown",
   "metadata": {},
   "source": [
    "#### We have to convert to datetime the \"date\" value in our dataset because currently is string."
   ]
  },
  {
   "cell_type": "code",
   "execution_count": 4,
   "metadata": {},
   "outputs": [
    {
     "data": {
      "text/html": [
       "<div>\n",
       "<style scoped>\n",
       "    .dataframe tbody tr th:only-of-type {\n",
       "        vertical-align: middle;\n",
       "    }\n",
       "\n",
       "    .dataframe tbody tr th {\n",
       "        vertical-align: top;\n",
       "    }\n",
       "\n",
       "    .dataframe thead th {\n",
       "        text-align: right;\n",
       "    }\n",
       "</style>\n",
       "<table border=\"1\" class=\"dataframe\">\n",
       "  <thead>\n",
       "    <tr style=\"text-align: right;\">\n",
       "      <th></th>\n",
       "      <th>listing_id</th>\n",
       "      <th>date</th>\n",
       "      <th>available</th>\n",
       "      <th>price</th>\n",
       "      <th>adjusted_price</th>\n",
       "      <th>minimum_nights</th>\n",
       "      <th>maximum_nights</th>\n",
       "      <th>date_format</th>\n",
       "    </tr>\n",
       "  </thead>\n",
       "  <tbody>\n",
       "    <tr>\n",
       "      <th>0</th>\n",
       "      <td>2318</td>\n",
       "      <td>2019-09-22</td>\n",
       "      <td>t</td>\n",
       "      <td>$475.00</td>\n",
       "      <td>$475.00</td>\n",
       "      <td>30</td>\n",
       "      <td>1000</td>\n",
       "      <td>2019-09-22</td>\n",
       "    </tr>\n",
       "    <tr>\n",
       "      <th>1</th>\n",
       "      <td>2318</td>\n",
       "      <td>2019-09-23</td>\n",
       "      <td>t</td>\n",
       "      <td>$475.00</td>\n",
       "      <td>$475.00</td>\n",
       "      <td>30</td>\n",
       "      <td>1000</td>\n",
       "      <td>2019-09-23</td>\n",
       "    </tr>\n",
       "    <tr>\n",
       "      <th>2</th>\n",
       "      <td>2318</td>\n",
       "      <td>2019-09-24</td>\n",
       "      <td>t</td>\n",
       "      <td>$475.00</td>\n",
       "      <td>$475.00</td>\n",
       "      <td>30</td>\n",
       "      <td>1000</td>\n",
       "      <td>2019-09-24</td>\n",
       "    </tr>\n",
       "    <tr>\n",
       "      <th>3</th>\n",
       "      <td>2318</td>\n",
       "      <td>2019-09-25</td>\n",
       "      <td>f</td>\n",
       "      <td>$475.00</td>\n",
       "      <td>$475.00</td>\n",
       "      <td>30</td>\n",
       "      <td>1000</td>\n",
       "      <td>2019-09-25</td>\n",
       "    </tr>\n",
       "    <tr>\n",
       "      <th>4</th>\n",
       "      <td>2318</td>\n",
       "      <td>2019-09-26</td>\n",
       "      <td>f</td>\n",
       "      <td>$475.00</td>\n",
       "      <td>$475.00</td>\n",
       "      <td>30</td>\n",
       "      <td>1000</td>\n",
       "      <td>2019-09-26</td>\n",
       "    </tr>\n",
       "  </tbody>\n",
       "</table>\n",
       "</div>"
      ],
      "text/plain": [
       "   listing_id        date available    price adjusted_price  minimum_nights  \\\n",
       "0        2318  2019-09-22         t  $475.00        $475.00              30   \n",
       "1        2318  2019-09-23         t  $475.00        $475.00              30   \n",
       "2        2318  2019-09-24         t  $475.00        $475.00              30   \n",
       "3        2318  2019-09-25         f  $475.00        $475.00              30   \n",
       "4        2318  2019-09-26         f  $475.00        $475.00              30   \n",
       "\n",
       "   maximum_nights date_format  \n",
       "0            1000  2019-09-22  \n",
       "1            1000  2019-09-23  \n",
       "2            1000  2019-09-24  \n",
       "3            1000  2019-09-25  \n",
       "4            1000  2019-09-26  "
      ]
     },
     "execution_count": 4,
     "metadata": {},
     "output_type": "execute_result"
    }
   ],
   "source": [
    "seattle_calendar[\"date_format\"] = pd.to_datetime(seattle_calendar['date'], format='%Y-%m-%d')\n",
    "seattle_calendar.head()"
   ]
  },
  {
   "cell_type": "markdown",
   "metadata": {},
   "source": [
    "#### The next step is remove the dolar character from the price, to do this we will split the price in two columns and then we will insert into our dataset again, just the price, after that we will conver the price value in float type. "
   ]
  },
  {
   "cell_type": "code",
   "execution_count": 5,
   "metadata": {},
   "outputs": [],
   "source": [
    "seattle_calendar_splited = seattle_calendar\n",
    "price_splited= seattle_calendar_splited[\"price\"].str.split(\"$\", n = 1, expand = True)\n"
   ]
  },
  {
   "cell_type": "code",
   "execution_count": 6,
   "metadata": {},
   "outputs": [
    {
     "data": {
      "text/html": [
       "<div>\n",
       "<style scoped>\n",
       "    .dataframe tbody tr th:only-of-type {\n",
       "        vertical-align: middle;\n",
       "    }\n",
       "\n",
       "    .dataframe tbody tr th {\n",
       "        vertical-align: top;\n",
       "    }\n",
       "\n",
       "    .dataframe thead th {\n",
       "        text-align: right;\n",
       "    }\n",
       "</style>\n",
       "<table border=\"1\" class=\"dataframe\">\n",
       "  <thead>\n",
       "    <tr style=\"text-align: right;\">\n",
       "      <th></th>\n",
       "      <th>listing_id</th>\n",
       "      <th>date</th>\n",
       "      <th>available</th>\n",
       "      <th>price</th>\n",
       "      <th>adjusted_price</th>\n",
       "      <th>minimum_nights</th>\n",
       "      <th>maximum_nights</th>\n",
       "      <th>date_format</th>\n",
       "      <th>total_price</th>\n",
       "    </tr>\n",
       "  </thead>\n",
       "  <tbody>\n",
       "    <tr>\n",
       "      <th>0</th>\n",
       "      <td>2318</td>\n",
       "      <td>2019-09-22</td>\n",
       "      <td>t</td>\n",
       "      <td>$475.00</td>\n",
       "      <td>$475.00</td>\n",
       "      <td>30</td>\n",
       "      <td>1000</td>\n",
       "      <td>2019-09-22</td>\n",
       "      <td>475.0</td>\n",
       "    </tr>\n",
       "    <tr>\n",
       "      <th>1</th>\n",
       "      <td>2318</td>\n",
       "      <td>2019-09-23</td>\n",
       "      <td>t</td>\n",
       "      <td>$475.00</td>\n",
       "      <td>$475.00</td>\n",
       "      <td>30</td>\n",
       "      <td>1000</td>\n",
       "      <td>2019-09-23</td>\n",
       "      <td>475.0</td>\n",
       "    </tr>\n",
       "    <tr>\n",
       "      <th>2</th>\n",
       "      <td>2318</td>\n",
       "      <td>2019-09-24</td>\n",
       "      <td>t</td>\n",
       "      <td>$475.00</td>\n",
       "      <td>$475.00</td>\n",
       "      <td>30</td>\n",
       "      <td>1000</td>\n",
       "      <td>2019-09-24</td>\n",
       "      <td>475.0</td>\n",
       "    </tr>\n",
       "    <tr>\n",
       "      <th>3</th>\n",
       "      <td>2318</td>\n",
       "      <td>2019-09-25</td>\n",
       "      <td>f</td>\n",
       "      <td>$475.00</td>\n",
       "      <td>$475.00</td>\n",
       "      <td>30</td>\n",
       "      <td>1000</td>\n",
       "      <td>2019-09-25</td>\n",
       "      <td>475.0</td>\n",
       "    </tr>\n",
       "    <tr>\n",
       "      <th>4</th>\n",
       "      <td>2318</td>\n",
       "      <td>2019-09-26</td>\n",
       "      <td>f</td>\n",
       "      <td>$475.00</td>\n",
       "      <td>$475.00</td>\n",
       "      <td>30</td>\n",
       "      <td>1000</td>\n",
       "      <td>2019-09-26</td>\n",
       "      <td>475.0</td>\n",
       "    </tr>\n",
       "  </tbody>\n",
       "</table>\n",
       "</div>"
      ],
      "text/plain": [
       "   listing_id        date available    price adjusted_price  minimum_nights  \\\n",
       "0        2318  2019-09-22         t  $475.00        $475.00              30   \n",
       "1        2318  2019-09-23         t  $475.00        $475.00              30   \n",
       "2        2318  2019-09-24         t  $475.00        $475.00              30   \n",
       "3        2318  2019-09-25         f  $475.00        $475.00              30   \n",
       "4        2318  2019-09-26         f  $475.00        $475.00              30   \n",
       "\n",
       "   maximum_nights date_format  total_price  \n",
       "0            1000  2019-09-22        475.0  \n",
       "1            1000  2019-09-23        475.0  \n",
       "2            1000  2019-09-24        475.0  \n",
       "3            1000  2019-09-25        475.0  \n",
       "4            1000  2019-09-26        475.0  "
      ]
     },
     "execution_count": 6,
     "metadata": {},
     "output_type": "execute_result"
    }
   ],
   "source": [
    "seattle_calendar_splited[\"total_price\"] = price_splited[1]\n",
    "seattle_calendar_splited[\"total_price\"] = seattle_calendar_splited[\"total_price\"].str.replace(',', '').astype(float)\n",
    "seattle_calendar_splited.head()"
   ]
  },
  {
   "cell_type": "markdown",
   "metadata": {},
   "source": [
    "#### Now we have our price in a new column called total_price, with the type float."
   ]
  },
  {
   "cell_type": "code",
   "execution_count": 7,
   "metadata": {},
   "outputs": [
    {
     "data": {
      "text/html": [
       "<div>\n",
       "<style scoped>\n",
       "    .dataframe tbody tr th:only-of-type {\n",
       "        vertical-align: middle;\n",
       "    }\n",
       "\n",
       "    .dataframe tbody tr th {\n",
       "        vertical-align: top;\n",
       "    }\n",
       "\n",
       "    .dataframe thead th {\n",
       "        text-align: right;\n",
       "    }\n",
       "</style>\n",
       "<table border=\"1\" class=\"dataframe\">\n",
       "  <thead>\n",
       "    <tr style=\"text-align: right;\">\n",
       "      <th></th>\n",
       "      <th>price</th>\n",
       "      <th>adjusted_price</th>\n",
       "      <th>date_format</th>\n",
       "      <th>total_price</th>\n",
       "    </tr>\n",
       "  </thead>\n",
       "  <tbody>\n",
       "    <tr>\n",
       "      <th>0</th>\n",
       "      <td>$475.00</td>\n",
       "      <td>$475.00</td>\n",
       "      <td>2019-09-22</td>\n",
       "      <td>475.0</td>\n",
       "    </tr>\n",
       "    <tr>\n",
       "      <th>1</th>\n",
       "      <td>$475.00</td>\n",
       "      <td>$475.00</td>\n",
       "      <td>2019-09-23</td>\n",
       "      <td>475.0</td>\n",
       "    </tr>\n",
       "    <tr>\n",
       "      <th>2</th>\n",
       "      <td>$475.00</td>\n",
       "      <td>$475.00</td>\n",
       "      <td>2019-09-24</td>\n",
       "      <td>475.0</td>\n",
       "    </tr>\n",
       "    <tr>\n",
       "      <th>3</th>\n",
       "      <td>$475.00</td>\n",
       "      <td>$475.00</td>\n",
       "      <td>2019-09-25</td>\n",
       "      <td>475.0</td>\n",
       "    </tr>\n",
       "    <tr>\n",
       "      <th>4</th>\n",
       "      <td>$475.00</td>\n",
       "      <td>$475.00</td>\n",
       "      <td>2019-09-26</td>\n",
       "      <td>475.0</td>\n",
       "    </tr>\n",
       "  </tbody>\n",
       "</table>\n",
       "</div>"
      ],
      "text/plain": [
       "     price adjusted_price date_format  total_price\n",
       "0  $475.00        $475.00  2019-09-22        475.0\n",
       "1  $475.00        $475.00  2019-09-23        475.0\n",
       "2  $475.00        $475.00  2019-09-24        475.0\n",
       "3  $475.00        $475.00  2019-09-25        475.0\n",
       "4  $475.00        $475.00  2019-09-26        475.0"
      ]
     },
     "execution_count": 7,
     "metadata": {},
     "output_type": "execute_result"
    }
   ],
   "source": [
    "seattle_calendar_splited = seattle_calendar_splited.drop(columns=[\"listing_id\",\"date\",\"available\",\"minimum_nights\",\"maximum_nights\"])\n",
    "seattle_calendar_splited.head()"
   ]
  },
  {
   "cell_type": "code",
   "execution_count": 8,
   "metadata": {},
   "outputs": [
    {
     "data": {
      "text/plain": [
       "155.67198690750394"
      ]
     },
     "execution_count": 8,
     "metadata": {},
     "output_type": "execute_result"
    }
   ],
   "source": [
    "seattle_calendar_splited.total_price.mean()"
   ]
  },
  {
   "cell_type": "markdown",
   "metadata": {},
   "source": [
    "#### We have to verify the percentaje of NA's in our dataset."
   ]
  },
  {
   "cell_type": "code",
   "execution_count": 13,
   "metadata": {},
   "outputs": [
    {
     "data": {
      "text/plain": [
       "0.0"
      ]
     },
     "execution_count": 13,
     "metadata": {},
     "output_type": "execute_result"
    }
   ],
   "source": [
    "seattle_calendar_splited['date_format'].isna().mean()"
   ]
  },
  {
   "cell_type": "markdown",
   "metadata": {},
   "source": [
    "#### And plot our time series with the mean of price. "
   ]
  },
  {
   "cell_type": "code",
   "execution_count": 11,
   "metadata": {},
   "outputs": [
    {
     "data": {
      "text/plain": [
       "<matplotlib.axes._subplots.AxesSubplot at 0x1d00f122588>"
      ]
     },
     "execution_count": 11,
     "metadata": {},
     "output_type": "execute_result"
    },
    {
     "data": {
      "image/png": "[encoded data removed]",
      "text/plain": [
       "<Figure size 1440x1440 with 1 Axes>"
      ]
     },
     "metadata": {
      "needs_background": "light"
     },
     "output_type": "display_data"
    }
   ],
   "source": [
    "\n",
    "seattle_calendar_splited_date = seattle_calendar_splited\n",
    "seattle_calendar_splited_date['date_format'] = seattle_calendar_splited_date.apply(lambda row: pd.Timestamp(row.date_format), axis=1 )\n",
    "seattle_calendar_splited_date = seattle_calendar_splited_date.set_index(seattle_calendar_splited_date.date_format).drop('date_format', axis=1)\n",
    "seattle_calendar_splited_date.sort_index(inplace=True)\n",
    "\n",
    "seattle_calendar_splited_date.rolling('10d').mean().plot(figsize=(20,20),ylim =(0, 200), grid='true')"
   ]
  },
  {
   "cell_type": "markdown",
   "metadata": {},
   "source": [
    "#### As a conclusion we can said that in December  is our most expensive month of 2019.\n",
    "#### The 2020 Yer will have an increase of about 25 dollars the cost of airbnb in seattle.\n",
    "#### The most expensive month of 2020 will be august. We have to mention that the dataset that we have dont cover all the 2020 year."
   ]
  },
  {
   "cell_type": "code",
   "execution_count": null,
   "metadata": {},
   "outputs": [],
   "source": []
  }
 ],
 "metadata": {
  "kernelspec": {
   "display_name": "Python 3",
   "language": "python",
   "name": "python3"
  },
  "language_info": {
   "codemirror_mode": {
    "name": "ipython",
    "version": 3
   },
   "file_extension": ".py",
   "mimetype": "text/x-python",
   "name": "python",
   "nbconvert_exporter": "python",
   "pygments_lexer": "ipython3",
   "version": "3.7.4"
  }
 },
 "nbformat": 4,
 "nbformat_minor": 2
}
